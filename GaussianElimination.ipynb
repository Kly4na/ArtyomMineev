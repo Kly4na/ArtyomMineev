{
 "cells": [
  {
   "cell_type": "code",
   "execution_count": 4,
   "metadata": {},
   "outputs": [
    {
     "name": "stdout",
     "output_type": "stream",
     "text": [
      "Введите число уравнений\n"
     ]
    },
    {
     "name": "stdin",
     "output_type": "stream",
     "text": [
      " 2\n"
     ]
    },
    {
     "name": "stdout",
     "output_type": "stream",
     "text": [
      "Введите коэффицент на позиции  1 , 1\n"
     ]
    },
    {
     "name": "stdin",
     "output_type": "stream",
     "text": [
      " 1\n"
     ]
    },
    {
     "name": "stdout",
     "output_type": "stream",
     "text": [
      "Введите коэффицент на позиции  1 , 2\n"
     ]
    },
    {
     "name": "stdin",
     "output_type": "stream",
     "text": [
      " 2\n"
     ]
    },
    {
     "name": "stdout",
     "output_type": "stream",
     "text": [
      "Введите коэффицент на позиции  1 , 3\n"
     ]
    },
    {
     "name": "stdin",
     "output_type": "stream",
     "text": [
      " 4\n"
     ]
    },
    {
     "name": "stdout",
     "output_type": "stream",
     "text": [
      "Введите коэффицент на позиции  2 , 1\n"
     ]
    },
    {
     "name": "stdin",
     "output_type": "stream",
     "text": [
      " 3\n"
     ]
    },
    {
     "name": "stdout",
     "output_type": "stream",
     "text": [
      "Введите коэффицент на позиции  2 , 2\n"
     ]
    },
    {
     "name": "stdin",
     "output_type": "stream",
     "text": [
      " 2\n"
     ]
    },
    {
     "name": "stdout",
     "output_type": "stream",
     "text": [
      "Введите коэффицент на позиции  2 , 3\n"
     ]
    },
    {
     "name": "stdin",
     "output_type": "stream",
     "text": [
      " 1\n"
     ]
    },
    {
     "name": "stdout",
     "output_type": "stream",
     "text": [
      "Ваша СЛАУ:\n",
      " [[1. 2. 4.]\n",
      " [3. 2. 1.]] \n",
      "\n",
      "Столбец решений:\n",
      "\n",
      "-1.5\n",
      "2.75\n",
      "\n",
      "\n",
      "28.6 µs ± 2.04 µs per loop (mean ± std. dev. of 7 runs, 10000 loops each)\n",
      "2.87 µs ± 41.8 ns per loop (mean ± std. dev. of 7 runs, 100000 loops each)\n"
     ]
    }
   ],
   "source": [
    "## import numpy as np\n",
    "from numba import njit\n",
    "\n",
    "print('Введите число уравнений')\n",
    "n = int(input())\n",
    "a = np.empty((n, n+1))\n",
    "\n",
    "for i in range(n):\n",
    "    for j in range(n+1):\n",
    "        print('Введите коэффицент на позиции ',i+1,',',j+1)\n",
    "        a[i][j] = int(input())\n",
    "print('Ваша СЛАУ:\\n',a,'\\n')\n",
    "def gauss(a):\n",
    "    for i in range(n):\n",
    "        for j in range(i+1, n):\n",
    "                 a[i] = a[i]/a[i][i]\n",
    "                 a[j] = a[j]-a[i]*(a[j][i])\n",
    "    a[n-1] = a[n-1]/a[n-1][n-1]\n",
    "    for i in range(n):\n",
    "                for j in range(i+1, n):\n",
    "                        a[i] =a[i]-a[j]*a[i][j]\n",
    "    return(a)\n",
    "\n",
    "@njit\n",
    "def f_gauss(a):\n",
    "    for i in range(n):\n",
    "        for j in range(i+1, n):\n",
    "                 a[i] = a[i]/a[i][i]\n",
    "                 a[j] = a[j]-a[i]*(a[j][i])\n",
    "    a[n-1] = a[n-1]/a[n-1][n-1]\n",
    "    for i in range(n):\n",
    "                for j in range(i+1, n):\n",
    "                        a[i] =a[i]-a[j]*a[i][j]\n",
    "    return(a)\n",
    "print('Столбец решений:\\n')\n",
    "for i in range(n):\n",
    "    print(f_gauss(a)[i][n])\n",
    "print('\\n') \n",
    "%timeit gauss(a)\n",
    "%timeit f_gauss(a)  "
   ]
  },
  {
   "cell_type": "code",
   "execution_count": null,
   "metadata": {},
   "outputs": [],
   "source": [
    "   \n",
    "\n",
    "   "
   ]
  },
  {
   "cell_type": "code",
   "execution_count": null,
   "metadata": {},
   "outputs": [],
   "source": []
  },
  {
   "cell_type": "code",
   "execution_count": null,
   "metadata": {},
   "outputs": [],
   "source": []
  }
 ],
 "metadata": {
  "kernelspec": {
   "display_name": "Python 3",
   "language": "python",
   "name": "python3"
  },
  "language_info": {
   "codemirror_mode": {
    "name": "ipython",
    "version": 3
   },
   "file_extension": ".py",
   "mimetype": "text/x-python",
   "name": "python",
   "nbconvert_exporter": "python",
   "pygments_lexer": "ipython3",
   "version": "3.7.5"
  }
 },
 "nbformat": 4,
 "nbformat_minor": 4
}
