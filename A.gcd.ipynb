{
 "cells": [
  {
   "cell_type": "code",
   "execution_count": 8,
   "metadata": {},
   "outputs": [
    {
     "name": "stdin",
     "output_type": "stream",
     "text": [
      "Введите первое число:\n",
      " 13\n",
      "Введите второе число:\n",
      " 169\n"
     ]
    },
    {
     "name": "stdout",
     "output_type": "stream",
     "text": [
      "gcd = 13\n"
     ]
    }
   ],
   "source": [
    "def gcd (a, b) :\n",
    "    if (b == 0): \n",
    "        return a\n",
    "    else:\n",
    "        return gcd (b, a % b)\n",
    "    \n",
    "a=int(input('Введите первое число:'+'\\n'))\n",
    "\n",
    "b=int(input('Введите второе число:'+'\\n'))\n",
    "print ('gcd =',gcd(a,b))"
   ]
  },
  {
   "cell_type": "code",
   "execution_count": null,
   "metadata": {},
   "outputs": [],
   "source": []
  }
 ],
 "metadata": {
  "kernelspec": {
   "display_name": "Python 3",
   "language": "python",
   "name": "python3"
  },
  "language_info": {
   "codemirror_mode": {
    "name": "ipython",
    "version": 3
   },
   "file_extension": ".py",
   "mimetype": "text/x-python",
   "name": "python",
   "nbconvert_exporter": "python",
   "pygments_lexer": "ipython3",
   "version": "3.7.5"
  }
 },
 "nbformat": 4,
 "nbformat_minor": 4
}
