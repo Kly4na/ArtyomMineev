{
 "cells": [
  {
   "cell_type": "code",
   "execution_count": 16,
   "metadata": {},
   "outputs": [
    {
     "name": "stdin",
     "output_type": "stream",
     "text": [
      "Введите число:\n",
      " 44027\n",
      "Введите основание системы счисления:\n",
      " 36\n"
     ]
    },
    {
     "name": "stdout",
     "output_type": "stream",
     "text": [
      "Ваше число в новой системе счисления: XYZ\n"
     ]
    }
   ],
   "source": [
    "def str_base(value: 'int', base: 'int') -> 'str':\n",
    "    alph = \"0123456789ABCDEFGHIJKLMNOPQRSTUVWXYZ\"\n",
    "    if (value<base):\n",
    "        return alph[value]\n",
    "    else:\n",
    "        return str_base(value // base, base)+ alph[value % base]\n",
    "value=int(input('Введите число:'+'\\n'))\n",
    "base=int(input('Введите основание системы счисления:'+'\\n'))\n",
    "print('Ваше число в новой системе счисления: '+ str_base(value, base))"
   ]
  },
  {
   "cell_type": "code",
   "execution_count": null,
   "metadata": {},
   "outputs": [],
   "source": []
  },
  {
   "cell_type": "code",
   "execution_count": null,
   "metadata": {},
   "outputs": [],
   "source": []
  }
 ],
 "metadata": {
  "kernelspec": {
   "display_name": "Python 3",
   "language": "python",
   "name": "python3"
  },
  "language_info": {
   "codemirror_mode": {
    "name": "ipython",
    "version": 3
   },
   "file_extension": ".py",
   "mimetype": "text/x-python",
   "name": "python",
   "nbconvert_exporter": "python",
   "pygments_lexer": "ipython3",
   "version": "3.7.6"
  }
 },
 "nbformat": 4,
 "nbformat_minor": 4
}
