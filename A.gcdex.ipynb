{
 "cells": [
  {
   "cell_type": "code",
   "execution_count": 21,
   "metadata": {},
   "outputs": [
    {
     "name": "stdin",
     "output_type": "stream",
     "text": [
      "Введите первое число:\n",
      " 164\n",
      "Введите второе число:\n",
      " 122\n"
     ]
    },
    {
     "name": "stdout",
     "output_type": "stream",
     "text": [
      "gcd = 2\n",
      "Линейное представление gcd:  2 = -29 * 164 + 39 * 122\n"
     ]
    }
   ],
   "source": [
    "\n",
    "def gcd (a, b) :\n",
    "    if (b == 0): \n",
    "        return a,1,0\n",
    "    else:\n",
    "        d,x,y= gcd (b, a % b)\n",
    "        return d,y,x-y*(a//b) \n",
    "    \n",
    "a=int(input('Введите первое число:'+'\\n'))\n",
    "\n",
    "b=int(input('Введите второе число:'+'\\n'))\n",
    "print ('gcd=',gcd(a,b)[0])\n",
    "print ('Линейное представление gcd: ', gcd(a,b)[0],'=',gcd(a,b)[1],'*',a,'+',gcd(a,b)[2],'*',b)\n"
   ]
  },
  {
   "cell_type": "code",
   "execution_count": null,
   "metadata": {},
   "outputs": [],
   "source": []
  }
 ],
 "metadata": {
  "kernelspec": {
   "display_name": "Python 3",
   "language": "python",
   "name": "python3"
  },
  "language_info": {
   "codemirror_mode": {
    "name": "ipython",
    "version": 3
   },
   "file_extension": ".py",
   "mimetype": "text/x-python",
   "name": "python",
   "nbconvert_exporter": "python",
   "pygments_lexer": "ipython3",
   "version": "3.7.5"
  }
 },
 "nbformat": 4,
 "nbformat_minor": 4
}
