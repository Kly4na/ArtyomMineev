{
 "cells": [
  {
   "cell_type": "code",
   "execution_count": 8,
   "metadata": {},
   "outputs": [
    {
     "name": "stdin",
     "output_type": "stream",
     "text": [
      "Введите число\n",
      " 12\n"
     ]
    },
    {
     "name": "stdout",
     "output_type": "stream",
     "text": [
      "3.69 µs ± 73.2 ns per loop (mean ± std. dev. of 7 runs, 100000 loops each)\n",
      "329 ns ± 2.65 ns per loop (mean ± std. dev. of 7 runs, 1000000 loops each)\n",
      "False\n"
     ]
    }
   ],
   "source": [
    "import functools\n",
    "import math\n",
    "\n",
    "\n",
    "\n",
    "def is_simple(n: 'int') -> 'bool':\n",
    "    for i in range (2, math.ceil(math.sqrt(n))):\n",
    "        if (n%i)==0:\n",
    "            return False\n",
    "        return True\n",
    "\n",
    "\n",
    "@functools.lru_cache()\n",
    "def is_simple_cached(n: 'int') -> 'bool':\n",
    "    for i in range (2, math.ceil(math.sqrt(n))):\n",
    "        if (n%i)==0:\n",
    "            return False\n",
    "        return True\n",
    "n=int(input('Введите число'+'\\n'))\n",
    "%timeit is_simple(n)\n",
    "%timeit is_simple_cached(n)\n",
    "# Впечатляет разница в скорости?\n",
    "print(is_simple_cached(n))"
   ]
  },
  {
   "cell_type": "code",
   "execution_count": null,
   "metadata": {},
   "outputs": [],
   "source": []
  }
 ],
 "metadata": {
  "kernelspec": {
   "display_name": "Python 3",
   "language": "python",
   "name": "python3"
  },
  "language_info": {
   "codemirror_mode": {
    "name": "ipython",
    "version": 3
   },
   "file_extension": ".py",
   "mimetype": "text/x-python",
   "name": "python",
   "nbconvert_exporter": "python",
   "pygments_lexer": "ipython3",
   "version": "3.7.5"
  }
 },
 "nbformat": 4,
 "nbformat_minor": 4
}
